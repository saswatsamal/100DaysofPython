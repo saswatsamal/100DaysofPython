{
 "metadata": {
  "language_info": {
   "codemirror_mode": {
    "name": "ipython",
    "version": 3
   },
   "file_extension": ".py",
   "mimetype": "text/x-python",
   "name": "python",
   "nbconvert_exporter": "python",
   "pygments_lexer": "ipython3",
   "version": 3
  },
  "orig_nbformat": 2,
  "kernelspec": {
   "name": "python_defaultSpec_1596570307153",
   "display_name": "Python 3.7.4 64-bit"
  }
 },
 "nbformat": 4,
 "nbformat_minor": 2,
 "cells": [
  {
   "cell_type": "markdown",
   "metadata": {},
   "source": [
    "# Function Calls\n",
    "The Python interpreter can compute new values with function calls. You are familiar with the idea of functions from high school algebra. There you might define a function f by specifying how it transforms an input into an output, f(x) = 3x + 2. Then, you might write f(5) and expect to get the value 17.\n",
    "\n",
    "Python adopts a similar syntax for invoking functions. If there is a named function foo that takes a single input, we can invoke foo on the value 5 by writing foo(5).\n",
    "\n",
    "There are many built-in functions available in Python. You’ll be seeing some in this chapter and the next couple of chapters.\n",
    "\n",
    "Functions are like factories that take in some material, do some operation, and then send out the resulting object.\n",
    "\n",
    "![Function](https://fopp.umsi.education/books/published/fopp/_images/function_calls.gif)"
   ]
  },
  {
   "cell_type": "code",
   "execution_count": 5,
   "metadata": {},
   "outputs": [],
   "source": [
    "def square(x):\n",
    "   return x * x\n",
    "\n",
    "def sub(x, y):\n",
    "   return x - y"
   ]
  },
  {
   "cell_type": "markdown",
   "metadata": {},
   "source": [
    "`square` takes a single input parameter, and returns that input multiplied by itself. `sub` takes two input parameters and returns the result of subtracting the second from the first.\n",
    "\n",
    "![Square(4)](https://fopp.umsi.education/books/published/fopp/_images/square_function.gif)"
   ]
  },
  {
   "cell_type": "code",
   "execution_count": 6,
   "metadata": {
    "tags": []
   },
   "outputs": [
    {
     "output_type": "stream",
     "name": "stdout",
     "text": "9\n2\n-4\n"
    }
   ],
   "source": [
    "print(square(3))\n",
    "square(5)\n",
    "print(sub(6, 4))\n",
    "print(sub(5, 9))"
   ]
  },
  {
   "cell_type": "markdown",
   "metadata": {},
   "source": [
    "## Function calls as part of complex expressions\n",
    "Anywhere in an expression that you can write a literal like a number, you can also write a function invocation that produces a number."
   ]
  },
  {
   "cell_type": "code",
   "execution_count": 7,
   "metadata": {
    "tags": []
   },
   "outputs": [
    {
     "output_type": "stream",
     "name": "stdout",
     "text": "11\n5\n"
    }
   ],
   "source": [
    "print(square(3) + 2)\n",
    "print(sub(square(3), square(1+1)))"
   ]
  },
  {
   "cell_type": "markdown",
   "metadata": {},
   "source": [
    "## Functions are objects; parentheses invoke functions\n",
    "Just typing the name of the function refers to the function as an object. Typing the name of the function followed by parentheses () invokes the function."
   ]
  },
  {
   "cell_type": "code",
   "execution_count": 8,
   "metadata": {
    "tags": []
   },
   "outputs": [
    {
     "output_type": "stream",
     "name": "stdout",
     "text": "<function square at 0x00000200B4A3BDC8>\n9\n"
    }
   ],
   "source": [
    "print(square)\n",
    "print(square(3))"
   ]
  },
  {
   "cell_type": "markdown",
   "metadata": {},
   "source": [
    "**~End~**"
   ]
  }
 ]
}